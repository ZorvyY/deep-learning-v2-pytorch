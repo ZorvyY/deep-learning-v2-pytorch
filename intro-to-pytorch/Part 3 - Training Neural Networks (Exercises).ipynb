{
 "cells": [
  {
   "cell_type": "markdown",
   "metadata": {},
   "source": [
    "# Training Neural Networks\n",
    "\n",
    "The network we built in the previous part isn't so smart, it doesn't know anything about our handwritten digits. Neural networks with non-linear activations work like universal function approximators. There is some function that maps your input to the output. For example, images of handwritten digits to class probabilities. The power of neural networks is that we can train them to approximate this function, and basically any function given enough data and compute time.\n",
    "\n",
    "<img src=\"assets/function_approx.png\" width=500px>\n",
    "\n",
    "At first the network is naive, it doesn't know the function mapping the inputs to the outputs. We train the network by showing it examples of real data, then adjusting the network parameters such that it approximates this function.\n",
    "\n",
    "To find these parameters, we need to know how poorly the network is predicting the real outputs. For this we calculate a **loss function** (also called the cost), a measure of our prediction error. For example, the mean squared loss is often used in regression and binary classification problems\n",
    "\n",
    "$$\n",
    "\\large \\ell = \\frac{1}{2n}\\sum_i^n{\\left(y_i - \\hat{y}_i\\right)^2}\n",
    "$$\n",
    "\n",
    "where $n$ is the number of training examples, $y_i$ are the true labels, and $\\hat{y}_i$ are the predicted labels.\n",
    "\n",
    "By minimizing this loss with respect to the network parameters, we can find configurations where the loss is at a minimum and the network is able to predict the correct labels with high accuracy. We find this minimum using a process called **gradient descent**. The gradient is the slope of the loss function and points in the direction of fastest change. To get to the minimum in the least amount of time, we then want to follow the gradient (downwards). You can think of this like descending a mountain by following the steepest slope to the base.\n",
    "\n",
    "<img src='assets/gradient_descent.png' width=350px>"
   ]
  },
  {
   "cell_type": "markdown",
   "metadata": {},
   "source": [
    "## Backpropagation\n",
    "\n",
    "For single layer networks, gradient descent is straightforward to implement. However, it's more complicated for deeper, multilayer neural networks like the one we've built. Complicated enough that it took about 30 years before researchers figured out how to train multilayer networks.\n",
    "\n",
    "Training multilayer networks is done through **backpropagation** which is really just an application of the chain rule from calculus. It's easiest to understand if we convert a two layer network into a graph representation.\n",
    "\n",
    "<img src='assets/backprop_diagram.png' width=550px>\n",
    "\n",
    "In the forward pass through the network, our data and operations go from bottom to top here. We pass the input $x$ through a linear transformation $L_1$ with weights $W_1$ and biases $b_1$. The output then goes through the sigmoid operation $S$ and another linear transformation $L_2$. Finally we calculate the loss $\\ell$. We use the loss as a measure of how bad the network's predictions are. The goal then is to adjust the weights and biases to minimize the loss.\n",
    "\n",
    "To train the weights with gradient descent, we propagate the gradient of the loss backwards through the network. Each operation has some gradient between the inputs and outputs. As we send the gradients backwards, we multiply the incoming gradient with the gradient for the operation. Mathematically, this is really just calculating the gradient of the loss with respect to the weights using the chain rule.\n",
    "\n",
    "$$\n",
    "\\large \\frac{\\partial \\ell}{\\partial W_1} = \\frac{\\partial L_1}{\\partial W_1} \\frac{\\partial S}{\\partial L_1} \\frac{\\partial L_2}{\\partial S} \\frac{\\partial \\ell}{\\partial L_2}\n",
    "$$\n",
    "\n",
    "**Note:** I'm glossing over a few details here that require some knowledge of vector calculus, but they aren't necessary to understand what's going on.\n",
    "\n",
    "We update our weights using this gradient with some learning rate $\\alpha$. \n",
    "\n",
    "$$\n",
    "\\large W^\\prime_1 = W_1 - \\alpha \\frac{\\partial \\ell}{\\partial W_1}\n",
    "$$\n",
    "\n",
    "The learning rate $\\alpha$ is set such that the weight update steps are small enough that the iterative method settles in a minimum."
   ]
  },
  {
   "cell_type": "markdown",
   "metadata": {},
   "source": [
    "## Losses in PyTorch\n",
    "\n",
    "Let's start by seeing how we calculate the loss with PyTorch. Through the `nn` module, PyTorch provides losses such as the cross-entropy loss (`nn.CrossEntropyLoss`). You'll usually see the loss assigned to `criterion`. As noted in the last part, with a classification problem such as MNIST, we're using the softmax function to predict class probabilities. With a softmax output, you want to use cross-entropy as the loss. To actually calculate the loss, you first define the criterion then pass in the output of your network and the correct labels.\n",
    "\n",
    "Something really important to note here. Looking at [the documentation for `nn.CrossEntropyLoss`](https://pytorch.org/docs/stable/nn.html#torch.nn.CrossEntropyLoss),\n",
    "\n",
    "> This criterion combines `nn.LogSoftmax()` and `nn.NLLLoss()` in one single class.\n",
    ">\n",
    "> The input is expected to contain scores for each class.\n",
    "\n",
    "This means we need to pass in the raw output of our network into the loss, not the output of the softmax function. This raw output is usually called the *logits* or *scores*. We use the logits because softmax gives you probabilities which will often be very close to zero or one but floating-point numbers can't accurately represent values near zero or one ([read more here](https://docs.python.org/3/tutorial/floatingpoint.html)). It's usually best to avoid doing calculations with probabilities, typically we use log-probabilities."
   ]
  },
  {
   "cell_type": "code",
   "execution_count": 1,
   "metadata": {},
   "outputs": [],
   "source": [
    "import torch\n",
    "from torch import nn\n",
    "import torch.nn.functional as F\n",
    "from torchvision import datasets, transforms\n",
    "\n",
    "# Define a transform to normalize the data\n",
    "transform = transforms.Compose([transforms.ToTensor(),\n",
    "                                transforms.Normalize((0.5,), (0.5,)),\n",
    "                              ])\n",
    "# Download and load the training data\n",
    "trainset = datasets.MNIST('~/.pytorch/MNIST_data/', download=True, train=True, transform=transform)\n",
    "trainloader = torch.utils.data.DataLoader(trainset, batch_size=64, shuffle=True)"
   ]
  },
  {
   "cell_type": "markdown",
   "metadata": {},
   "source": [
    "### Note\n",
    "If you haven't seen `nn.Sequential` yet, please finish the end of the Part 2 notebook."
   ]
  },
  {
   "cell_type": "code",
   "execution_count": 10,
   "metadata": {},
   "outputs": [
    {
     "name": "stdout",
     "output_type": "stream",
     "text": [
      "tensor(2.3028, grad_fn=<NllLossBackward>)\n"
     ]
    }
   ],
   "source": [
    "# Build a feed-forward network\n",
    "model = nn.Sequential(nn.Linear(784, 128),\n",
    "                      nn.ReLU(),\n",
    "                      nn.Linear(128, 64),\n",
    "                      nn.ReLU(),\n",
    "                      nn.Linear(64, 10))\n",
    "\n",
    "# Define the loss\n",
    "criterion = nn.CrossEntropyLoss()\n",
    "\n",
    "# Get our data\n",
    "images, labels = next(iter(trainloader))\n",
    "# Flatten images\n",
    "images = images.view(images.shape[0], -1)\n",
    "\n",
    "# Forward pass, get our logits\n",
    "logits = model(images)\n",
    "# Calculate the loss with the logits and the labels\n",
    "loss = criterion(logits, labels)\n",
    "\n",
    "print(loss)"
   ]
  },
  {
   "cell_type": "markdown",
   "metadata": {},
   "source": [
    "In my experience it's more convenient to build the model with a log-softmax output using `nn.LogSoftmax` or `F.log_softmax` ([documentation](https://pytorch.org/docs/stable/nn.html#torch.nn.LogSoftmax)). Then you can get the actual probabilities by taking the exponential `torch.exp(output)`. With a log-softmax output, you want to use the negative log likelihood loss, `nn.NLLLoss` ([documentation](https://pytorch.org/docs/stable/nn.html#torch.nn.NLLLoss)).\n",
    "\n",
    ">**Exercise:** Build a model that returns the log-softmax as the output and calculate the loss using the negative log likelihood loss. Note that for `nn.LogSoftmax` and `F.log_softmax` you'll need to set the `dim` keyword argument appropriately. `dim=0` calculates softmax across the rows, so each column sums to 1, while `dim=1` calculates across the columns so each row sums to 1. Think about what you want the output to be and choose `dim` appropriately."
   ]
  },
  {
   "cell_type": "code",
   "execution_count": 11,
   "metadata": {},
   "outputs": [
    {
     "name": "stdout",
     "output_type": "stream",
     "text": [
      "tensor(2.2979, grad_fn=<NllLossBackward>)\n"
     ]
    }
   ],
   "source": [
    "# TODO: Build a feed-forward network\n",
    "model = nn.Sequential(nn.Linear(784, 128),\n",
    "                     nn.ReLU(),\n",
    "                     nn.Linear(128, 64),\n",
    "                     nn.ReLU(),\n",
    "                     nn.Linear(64, 10),\n",
    "                     nn.LogSoftmax(dim=1))\n",
    "\n",
    "# TODO: Define the loss\n",
    "criterion = nn.NLLLoss()\n",
    "\n",
    "### Run this to check your work\n",
    "# Get our data\n",
    "#images, labels = next(iter(trainloader))\n",
    "# Flatten images\n",
    "images = images.view(images.shape[0], -1)\n",
    "\n",
    "# Forward pass, get our logits\n",
    "logits = model(images)\n",
    "# Calculate the loss with the logits and the labels\n",
    "loss = criterion(logits, labels)\n",
    "\n",
    "print(loss)"
   ]
  },
  {
   "cell_type": "markdown",
   "metadata": {},
   "source": [
    "## Autograd\n",
    "\n",
    "Now that we know how to calculate a loss, how do we use it to perform backpropagation? Torch provides a module, `autograd`, for automatically calculating the gradients of tensors. We can use it to calculate the gradients of all our parameters with respect to the loss. Autograd works by keeping track of operations performed on tensors, then going backwards through those operations, calculating gradients along the way. To make sure PyTorch keeps track of operations on a tensor and calculates the gradients, you need to set `requires_grad = True` on a tensor. You can do this at creation with the `requires_grad` keyword, or at any time with `x.requires_grad_(True)`.\n",
    "\n",
    "You can turn off gradients for a block of code with the `torch.no_grad()` content:\n",
    "```python\n",
    "x = torch.zeros(1, requires_grad=True)\n",
    ">>> with torch.no_grad():\n",
    "...     y = x * 2\n",
    ">>> y.requires_grad\n",
    "False\n",
    "```\n",
    "\n",
    "Also, you can turn on or off gradients altogether with `torch.set_grad_enabled(True|False)`.\n",
    "\n",
    "The gradients are computed with respect to some variable `z` with `z.backward()`. This does a backward pass through the operations that created `z`."
   ]
  },
  {
   "cell_type": "code",
   "execution_count": 12,
   "metadata": {},
   "outputs": [
    {
     "name": "stdout",
     "output_type": "stream",
     "text": [
      "tensor([[0.5975, 0.7746],\n",
      "        [0.7397, 0.7613]], requires_grad=True)\n"
     ]
    }
   ],
   "source": [
    "x = torch.randn(2,2, requires_grad=True)\n",
    "print(x)"
   ]
  },
  {
   "cell_type": "code",
   "execution_count": 13,
   "metadata": {},
   "outputs": [
    {
     "name": "stdout",
     "output_type": "stream",
     "text": [
      "tensor([[0.3571, 0.6000],\n",
      "        [0.5472, 0.5796]], grad_fn=<PowBackward0>)\n"
     ]
    }
   ],
   "source": [
    "y = x**2\n",
    "print(y)"
   ]
  },
  {
   "cell_type": "markdown",
   "metadata": {},
   "source": [
    "Below we can see the operation that created `y`, a power operation `PowBackward0`."
   ]
  },
  {
   "cell_type": "code",
   "execution_count": 14,
   "metadata": {},
   "outputs": [
    {
     "name": "stdout",
     "output_type": "stream",
     "text": [
      "<PowBackward0 object at 0x132c153d0>\n"
     ]
    }
   ],
   "source": [
    "## grad_fn shows the function that generated this variable\n",
    "print(y.grad_fn)"
   ]
  },
  {
   "cell_type": "markdown",
   "metadata": {},
   "source": [
    "The autograd module keeps track of these operations and knows how to calculate the gradient for each one. In this way, it's able to calculate the gradients for a chain of operations, with respect to any one tensor. Let's reduce the tensor `y` to a scalar value, the mean."
   ]
  },
  {
   "cell_type": "code",
   "execution_count": 15,
   "metadata": {},
   "outputs": [
    {
     "name": "stdout",
     "output_type": "stream",
     "text": [
      "tensor(0.5210, grad_fn=<MeanBackward0>)\n"
     ]
    }
   ],
   "source": [
    "z = y.mean()\n",
    "print(z)"
   ]
  },
  {
   "cell_type": "markdown",
   "metadata": {},
   "source": [
    "You can check the gradients for `x` and `y` but they are empty currently."
   ]
  },
  {
   "cell_type": "code",
   "execution_count": 18,
   "metadata": {},
   "outputs": [
    {
     "name": "stdout",
     "output_type": "stream",
     "text": [
      "None\n",
      "None\n"
     ]
    },
    {
     "ename": "RuntimeError",
     "evalue": "grad can be implicitly created only for scalar outputs",
     "output_type": "error",
     "traceback": [
      "\u001b[0;31m---------------------------------------------------------------------------\u001b[0m",
      "\u001b[0;31mRuntimeError\u001b[0m                              Traceback (most recent call last)",
      "\u001b[0;32m<ipython-input-18-5c09c056c131>\u001b[0m in \u001b[0;36m<module>\u001b[0;34m\u001b[0m\n\u001b[1;32m      1\u001b[0m \u001b[0mprint\u001b[0m\u001b[0;34m(\u001b[0m\u001b[0mx\u001b[0m\u001b[0;34m.\u001b[0m\u001b[0mgrad\u001b[0m\u001b[0;34m)\u001b[0m\u001b[0;34m\u001b[0m\u001b[0;34m\u001b[0m\u001b[0m\n\u001b[1;32m      2\u001b[0m \u001b[0mprint\u001b[0m\u001b[0;34m(\u001b[0m\u001b[0my\u001b[0m\u001b[0;34m.\u001b[0m\u001b[0mgrad\u001b[0m\u001b[0;34m)\u001b[0m\u001b[0;34m\u001b[0m\u001b[0;34m\u001b[0m\u001b[0m\n\u001b[0;32m----> 3\u001b[0;31m \u001b[0my\u001b[0m\u001b[0;34m.\u001b[0m\u001b[0mbackward\u001b[0m\u001b[0;34m(\u001b[0m\u001b[0;34m)\u001b[0m\u001b[0;34m\u001b[0m\u001b[0;34m\u001b[0m\u001b[0m\n\u001b[0m",
      "\u001b[0;32m~/PycharmProjects/deep-learning-v2-pytorch/env/lib/python3.7/site-packages/torch/tensor.py\u001b[0m in \u001b[0;36mbackward\u001b[0;34m(self, gradient, retain_graph, create_graph)\u001b[0m\n\u001b[1;32m    164\u001b[0m                 \u001b[0mproducts\u001b[0m\u001b[0;34m.\u001b[0m \u001b[0mDefaults\u001b[0m \u001b[0mto\u001b[0m\u001b[0;31m \u001b[0m\u001b[0;31m`\u001b[0m\u001b[0;31m`\u001b[0m\u001b[0;32mFalse\u001b[0m\u001b[0;31m`\u001b[0m\u001b[0;31m`\u001b[0m\u001b[0;34m.\u001b[0m\u001b[0;34m\u001b[0m\u001b[0;34m\u001b[0m\u001b[0m\n\u001b[1;32m    165\u001b[0m         \"\"\"\n\u001b[0;32m--> 166\u001b[0;31m         \u001b[0mtorch\u001b[0m\u001b[0;34m.\u001b[0m\u001b[0mautograd\u001b[0m\u001b[0;34m.\u001b[0m\u001b[0mbackward\u001b[0m\u001b[0;34m(\u001b[0m\u001b[0mself\u001b[0m\u001b[0;34m,\u001b[0m \u001b[0mgradient\u001b[0m\u001b[0;34m,\u001b[0m \u001b[0mretain_graph\u001b[0m\u001b[0;34m,\u001b[0m \u001b[0mcreate_graph\u001b[0m\u001b[0;34m)\u001b[0m\u001b[0;34m\u001b[0m\u001b[0;34m\u001b[0m\u001b[0m\n\u001b[0m\u001b[1;32m    167\u001b[0m \u001b[0;34m\u001b[0m\u001b[0m\n\u001b[1;32m    168\u001b[0m     \u001b[0;32mdef\u001b[0m \u001b[0mregister_hook\u001b[0m\u001b[0;34m(\u001b[0m\u001b[0mself\u001b[0m\u001b[0;34m,\u001b[0m \u001b[0mhook\u001b[0m\u001b[0;34m)\u001b[0m\u001b[0;34m:\u001b[0m\u001b[0;34m\u001b[0m\u001b[0;34m\u001b[0m\u001b[0m\n",
      "\u001b[0;32m~/PycharmProjects/deep-learning-v2-pytorch/env/lib/python3.7/site-packages/torch/autograd/__init__.py\u001b[0m in \u001b[0;36mbackward\u001b[0;34m(tensors, grad_tensors, retain_graph, create_graph, grad_variables)\u001b[0m\n\u001b[1;32m     91\u001b[0m         \u001b[0mgrad_tensors\u001b[0m \u001b[0;34m=\u001b[0m \u001b[0mlist\u001b[0m\u001b[0;34m(\u001b[0m\u001b[0mgrad_tensors\u001b[0m\u001b[0;34m)\u001b[0m\u001b[0;34m\u001b[0m\u001b[0;34m\u001b[0m\u001b[0m\n\u001b[1;32m     92\u001b[0m \u001b[0;34m\u001b[0m\u001b[0m\n\u001b[0;32m---> 93\u001b[0;31m     \u001b[0mgrad_tensors\u001b[0m \u001b[0;34m=\u001b[0m \u001b[0m_make_grads\u001b[0m\u001b[0;34m(\u001b[0m\u001b[0mtensors\u001b[0m\u001b[0;34m,\u001b[0m \u001b[0mgrad_tensors\u001b[0m\u001b[0;34m)\u001b[0m\u001b[0;34m\u001b[0m\u001b[0;34m\u001b[0m\u001b[0m\n\u001b[0m\u001b[1;32m     94\u001b[0m     \u001b[0;32mif\u001b[0m \u001b[0mretain_graph\u001b[0m \u001b[0;32mis\u001b[0m \u001b[0;32mNone\u001b[0m\u001b[0;34m:\u001b[0m\u001b[0;34m\u001b[0m\u001b[0;34m\u001b[0m\u001b[0m\n\u001b[1;32m     95\u001b[0m         \u001b[0mretain_graph\u001b[0m \u001b[0;34m=\u001b[0m \u001b[0mcreate_graph\u001b[0m\u001b[0;34m\u001b[0m\u001b[0;34m\u001b[0m\u001b[0m\n",
      "\u001b[0;32m~/PycharmProjects/deep-learning-v2-pytorch/env/lib/python3.7/site-packages/torch/autograd/__init__.py\u001b[0m in \u001b[0;36m_make_grads\u001b[0;34m(outputs, grads)\u001b[0m\n\u001b[1;32m     32\u001b[0m             \u001b[0;32mif\u001b[0m \u001b[0mout\u001b[0m\u001b[0;34m.\u001b[0m\u001b[0mrequires_grad\u001b[0m\u001b[0;34m:\u001b[0m\u001b[0;34m\u001b[0m\u001b[0;34m\u001b[0m\u001b[0m\n\u001b[1;32m     33\u001b[0m                 \u001b[0;32mif\u001b[0m \u001b[0mout\u001b[0m\u001b[0;34m.\u001b[0m\u001b[0mnumel\u001b[0m\u001b[0;34m(\u001b[0m\u001b[0;34m)\u001b[0m \u001b[0;34m!=\u001b[0m \u001b[0;36m1\u001b[0m\u001b[0;34m:\u001b[0m\u001b[0;34m\u001b[0m\u001b[0;34m\u001b[0m\u001b[0m\n\u001b[0;32m---> 34\u001b[0;31m                     \u001b[0;32mraise\u001b[0m \u001b[0mRuntimeError\u001b[0m\u001b[0;34m(\u001b[0m\u001b[0;34m\"grad can be implicitly created only for scalar outputs\"\u001b[0m\u001b[0;34m)\u001b[0m\u001b[0;34m\u001b[0m\u001b[0;34m\u001b[0m\u001b[0m\n\u001b[0m\u001b[1;32m     35\u001b[0m                 \u001b[0mnew_grads\u001b[0m\u001b[0;34m.\u001b[0m\u001b[0mappend\u001b[0m\u001b[0;34m(\u001b[0m\u001b[0mtorch\u001b[0m\u001b[0;34m.\u001b[0m\u001b[0mones_like\u001b[0m\u001b[0;34m(\u001b[0m\u001b[0mout\u001b[0m\u001b[0;34m)\u001b[0m\u001b[0;34m)\u001b[0m\u001b[0;34m\u001b[0m\u001b[0;34m\u001b[0m\u001b[0m\n\u001b[1;32m     36\u001b[0m             \u001b[0;32melse\u001b[0m\u001b[0;34m:\u001b[0m\u001b[0;34m\u001b[0m\u001b[0;34m\u001b[0m\u001b[0m\n",
      "\u001b[0;31mRuntimeError\u001b[0m: grad can be implicitly created only for scalar outputs"
     ]
    }
   ],
   "source": [
    "print(x.grad)\n",
    "print(y.grad)"
   ]
  },
  {
   "cell_type": "markdown",
   "metadata": {},
   "source": [
    "To calculate the gradients, you need to run the `.backward` method on a Variable, `z` for example. This will calculate the gradient for `z` with respect to `x`\n",
    "\n",
    "$$\n",
    "\\frac{\\partial z}{\\partial x} = \\frac{\\partial}{\\partial x}\\left[\\frac{1}{n}\\sum_i^n x_i^2\\right] = \\frac{x}{2}\n",
    "$$"
   ]
  },
  {
   "cell_type": "code",
   "execution_count": 83,
   "metadata": {},
   "outputs": [
    {
     "name": "stdout",
     "output_type": "stream",
     "text": [
      "tensor(12., dtype=torch.float64)\n"
     ]
    }
   ],
   "source": [
    "#z.backward()\n",
    "#print(x.grad)\n",
    "#print(x/2)\n",
    "\n",
    "#z = x.sum()\n",
    "#z.backward()\n",
    "#y = x.sum()\n",
    "#y.backward()\n",
    "#w = z + y + a\n",
    "#a = torch.tensor(2, requires_grad=True, dtype=float)\n",
    "#print(a)\n",
    "#w += a\n",
    "#print(w.backward())\n",
    "#w.backward()\n",
    "w.backward()\n",
    "print(a.grad)\n",
    "#print(x.grad)\n",
    "#print(a.grad)\n",
    "#w.backward()\n",
    "#print(x.grad)\n",
    "#print(y.grad)\n",
    "#print(z.grad)\n"
   ]
  },
  {
   "cell_type": "markdown",
   "metadata": {},
   "source": [
    "These gradients calculations are particularly useful for neural networks. For training we need the gradients of the cost with respect to the weights. With PyTorch, we run data forward through the network to calculate the loss, then, go backwards to calculate the gradients with respect to the loss. Once we have the gradients we can make a gradient descent step. "
   ]
  },
  {
   "cell_type": "markdown",
   "metadata": {},
   "source": [
    "## Loss and Autograd together\n",
    "\n",
    "When we create a network with PyTorch, all of the parameters are initialized with `requires_grad = True`. This means that when we calculate the loss and call `loss.backward()`, the gradients for the parameters are calculated. These gradients are used to update the weights with gradient descent. Below you can see an example of calculating the gradients using a backwards pass."
   ]
  },
  {
   "cell_type": "code",
   "execution_count": 84,
   "metadata": {},
   "outputs": [],
   "source": [
    "# Build a feed-forward network\n",
    "model = nn.Sequential(nn.Linear(784, 128),\n",
    "                      nn.ReLU(),\n",
    "                      nn.Linear(128, 64),\n",
    "                      nn.ReLU(),\n",
    "                      nn.Linear(64, 10),\n",
    "                      nn.LogSoftmax(dim=1))\n",
    "\n",
    "criterion = nn.NLLLoss()\n",
    "images, labels = next(iter(trainloader))\n",
    "images = images.view(images.shape[0], -1)\n",
    "\n",
    "logits = model(images)\n",
    "loss = criterion(logits, labels)"
   ]
  },
  {
   "cell_type": "code",
   "execution_count": 85,
   "metadata": {},
   "outputs": [
    {
     "name": "stdout",
     "output_type": "stream",
     "text": [
      "Before backward pass: \n",
      " None\n",
      "After backward pass: \n",
      " tensor([[-0.0051, -0.0051, -0.0051,  ..., -0.0051, -0.0051, -0.0051],\n",
      "        [ 0.0012,  0.0012,  0.0012,  ...,  0.0012,  0.0012,  0.0012],\n",
      "        [ 0.0000,  0.0000,  0.0000,  ...,  0.0000,  0.0000,  0.0000],\n",
      "        ...,\n",
      "        [ 0.0000,  0.0000,  0.0000,  ...,  0.0000,  0.0000,  0.0000],\n",
      "        [ 0.0006,  0.0006,  0.0006,  ...,  0.0006,  0.0006,  0.0006],\n",
      "        [ 0.0023,  0.0023,  0.0023,  ...,  0.0023,  0.0023,  0.0023]])\n"
     ]
    }
   ],
   "source": [
    "print('Before backward pass: \\n', model[0].weight.grad)\n",
    "\n",
    "loss.backward()\n",
    "\n",
    "print('After backward pass: \\n', model[0].weight.grad)"
   ]
  },
  {
   "cell_type": "markdown",
   "metadata": {},
   "source": [
    "## Training the network!\n",
    "\n",
    "There's one last piece we need to start training, an optimizer that we'll use to update the weights with the gradients. We get these from PyTorch's [`optim` package](https://pytorch.org/docs/stable/optim.html). For example we can use stochastic gradient descent with `optim.SGD`. You can see how to define an optimizer below."
   ]
  },
  {
   "cell_type": "code",
   "execution_count": 86,
   "metadata": {},
   "outputs": [],
   "source": [
    "from torch import optim\n",
    "\n",
    "# Optimizers require the parameters to optimize and a learning rate\n",
    "optimizer = optim.SGD(model.parameters(), lr=0.01)"
   ]
  },
  {
   "cell_type": "markdown",
   "metadata": {},
   "source": [
    "Now we know how to use all the individual parts so it's time to see how they work together. Let's consider just one learning step before looping through all the data. The general process with PyTorch:\n",
    "\n",
    "* Make a forward pass through the network \n",
    "* Use the network output to calculate the loss\n",
    "* Perform a backward pass through the network with `loss.backward()` to calculate the gradients\n",
    "* Take a step with the optimizer to update the weights\n",
    "\n",
    "Below I'll go through one training step and print out the weights and gradients so you can see how it changes. Note that I have a line of code `optimizer.zero_grad()`. When you do multiple backwards passes with the same parameters, the gradients are accumulated. This means that you need to zero the gradients on each training pass or you'll retain gradients from previous training batches."
   ]
  },
  {
   "cell_type": "code",
   "execution_count": 87,
   "metadata": {},
   "outputs": [
    {
     "name": "stdout",
     "output_type": "stream",
     "text": [
      "Initial weights -  Parameter containing:\n",
      "tensor([[ 0.0257,  0.0320, -0.0105,  ..., -0.0334,  0.0317, -0.0305],\n",
      "        [-0.0186, -0.0134, -0.0074,  ...,  0.0221,  0.0160, -0.0202],\n",
      "        [ 0.0064,  0.0172, -0.0284,  ..., -0.0166, -0.0353, -0.0046],\n",
      "        ...,\n",
      "        [ 0.0297, -0.0214, -0.0117,  ...,  0.0051, -0.0040,  0.0091],\n",
      "        [ 0.0214,  0.0068, -0.0210,  ..., -0.0206, -0.0336,  0.0136],\n",
      "        [-0.0078, -0.0238,  0.0042,  ...,  0.0315, -0.0037,  0.0124]],\n",
      "       requires_grad=True)\n",
      "Gradient - tensor([[ 0.0032,  0.0032,  0.0032,  ...,  0.0032,  0.0032,  0.0032],\n",
      "        [-0.0017, -0.0017, -0.0017,  ..., -0.0017, -0.0017, -0.0017],\n",
      "        [-0.0002, -0.0002, -0.0002,  ..., -0.0002, -0.0002, -0.0002],\n",
      "        ...,\n",
      "        [ 0.0000,  0.0000,  0.0000,  ...,  0.0000,  0.0000,  0.0000],\n",
      "        [ 0.0015,  0.0015,  0.0015,  ...,  0.0015,  0.0015,  0.0015],\n",
      "        [ 0.0003,  0.0003,  0.0003,  ...,  0.0003,  0.0003,  0.0003]])\n"
     ]
    }
   ],
   "source": [
    "print('Initial weights - ', model[0].weight)\n",
    "\n",
    "images, labels = next(iter(trainloader))\n",
    "images.resize_(64, 784)\n",
    "\n",
    "# Clear the gradients, do this because gradients are accumulated\n",
    "optimizer.zero_grad()\n",
    "\n",
    "# Forward pass, then backward pass, then update weights\n",
    "output = model(images)\n",
    "loss = criterion(output, labels)\n",
    "loss.backward()\n",
    "print('Gradient -', model[0].weight.grad)"
   ]
  },
  {
   "cell_type": "code",
   "execution_count": 88,
   "metadata": {},
   "outputs": [
    {
     "name": "stdout",
     "output_type": "stream",
     "text": [
      "Updated weights -  Parameter containing:\n",
      "tensor([[ 0.0257,  0.0320, -0.0105,  ..., -0.0335,  0.0317, -0.0305],\n",
      "        [-0.0186, -0.0134, -0.0074,  ...,  0.0221,  0.0160, -0.0202],\n",
      "        [ 0.0064,  0.0172, -0.0284,  ..., -0.0166, -0.0353, -0.0046],\n",
      "        ...,\n",
      "        [ 0.0297, -0.0214, -0.0117,  ...,  0.0051, -0.0040,  0.0091],\n",
      "        [ 0.0214,  0.0068, -0.0210,  ..., -0.0207, -0.0336,  0.0136],\n",
      "        [-0.0078, -0.0238,  0.0042,  ...,  0.0315, -0.0037,  0.0124]],\n",
      "       requires_grad=True)\n"
     ]
    }
   ],
   "source": [
    "# Take an update step and few the new weights\n",
    "optimizer.step()\n",
    "print('Updated weights - ', model[0].weight)"
   ]
  },
  {
   "cell_type": "markdown",
   "metadata": {},
   "source": [
    "### Training for real\n",
    "\n",
    "Now we'll put this algorithm into a loop so we can go through all the images. Some nomenclature, one pass through the entire dataset is called an *epoch*. So here we're going to loop through `trainloader` to get our training batches. For each batch, we'll doing a training pass where we calculate the loss, do a backwards pass, and update the weights.\n",
    "\n",
    ">**Exercise:** Implement the training pass for our network. If you implemented it correctly, you should see the training loss drop with each epoch."
   ]
  },
  {
   "cell_type": "code",
   "execution_count": 89,
   "metadata": {},
   "outputs": [
    {
     "name": "stdout",
     "output_type": "stream",
     "text": [
      "Training loss: 1.99240696671675\n",
      "Training loss: 0.9290973519973917\n",
      "Training loss: 0.5387277925954953\n",
      "Training loss: 0.43458582546665214\n",
      "Training loss: 0.38797136086390727\n"
     ]
    }
   ],
   "source": [
    "## Your solution here\n",
    "\n",
    "model = nn.Sequential(nn.Linear(784, 128),\n",
    "                      nn.ReLU(),\n",
    "                      nn.Linear(128, 64),\n",
    "                      nn.ReLU(),\n",
    "                      nn.Linear(64, 10),\n",
    "                      nn.LogSoftmax(dim=1))\n",
    "\n",
    "criterion = nn.NLLLoss()\n",
    "optimizer = optim.SGD(model.parameters(), lr=0.003)\n",
    "\n",
    "epochs = 5\n",
    "for e in range(epochs):\n",
    "    running_loss = 0\n",
    "    for images, labels in trainloader:\n",
    "        # Flatten MNIST images into a 784 long vector\n",
    "        images = images.view(images.shape[0], -1)\n",
    "    \n",
    "        # TODO: Training pass\n",
    "        \n",
    "        optimizer.zero_grad()\n",
    "        \n",
    "        output = model(images)\n",
    "        loss = criterion(output, labels)\n",
    "        loss.backward()\n",
    "        \n",
    "        optimizer.step()\n",
    "        \n",
    "        running_loss += loss.item()\n",
    "    else:\n",
    "        print(f\"Training loss: {running_loss/len(trainloader)}\")"
   ]
  },
  {
   "cell_type": "markdown",
   "metadata": {},
   "source": [
    "With the network trained, we can check out it's predictions."
   ]
  },
  {
   "cell_type": "code",
   "execution_count": 119,
   "metadata": {},
   "outputs": [
    {
     "data": {
      "image/png": "[encoded data removed]",
      "text/plain": [
       "<Figure size 432x648 with 2 Axes>"
      ]
     },
     "metadata": {
      "needs_background": "light"
     },
     "output_type": "display_data"
    }
   ],
   "source": [
    "%matplotlib inline\n",
    "import helper\n",
    "\n",
    "images, labels = next(iter(trainloader))\n",
    "\n",
    "img = images[0].view(1, 784)\n",
    "# Turn off gradients to speed up this part\n",
    "with torch.no_grad():\n",
    "    logps = model(img)\n",
    "\n",
    "# Output of the network are log-probabilities, need to take exponential for probabilities\n",
    "ps = torch.exp(logps)\n",
    "helper.view_classify(img.view(1, 28, 28), ps)"
   ]
  },
  {
   "cell_type": "code",
   "execution_count": 121,
   "metadata": {},
   "outputs": [
    {
     "name": "stdout",
     "output_type": "stream",
     "text": [
      "[Parameter containing:\n",
      "tensor([[ 0.0022, -0.0246, -0.0073,  ...,  0.0035,  0.0131,  0.0106],\n",
      "        [ 0.0302, -0.0221, -0.0117,  ..., -0.0011, -0.0117,  0.0004],\n",
      "        [ 0.0182, -0.0345, -0.0192,  ..., -0.0297, -0.0177,  0.0234],\n",
      "        ...,\n",
      "        [-0.0295,  0.0337,  0.0308,  ...,  0.0008,  0.0360, -0.0314],\n",
      "        [-0.0236,  0.0171, -0.0361,  ...,  0.0288, -0.0266, -0.0115],\n",
      "        [ 0.0241, -0.0282, -0.0216,  ...,  0.0041,  0.0040,  0.0062]],\n",
      "       requires_grad=True), Parameter containing:\n",
      "tensor([ 0.0307, -0.0352, -0.0147,  0.0185, -0.0303, -0.0350,  0.0276,  0.0372,\n",
      "         0.0357,  0.0142,  0.0303,  0.0362,  0.0156, -0.0352, -0.0183, -0.0291,\n",
      "        -0.0215, -0.0277,  0.0371,  0.0128,  0.0235,  0.0259,  0.0286,  0.0212,\n",
      "         0.0239, -0.0294, -0.0102,  0.0283, -0.0021,  0.0014,  0.0227, -0.0263,\n",
      "        -0.0026,  0.0315, -0.0066,  0.0163,  0.0266,  0.0299, -0.0001, -0.0308,\n",
      "        -0.0172, -0.0218, -0.0031, -0.0276,  0.0365, -0.0172, -0.0357,  0.0296,\n",
      "         0.0358, -0.0154,  0.0245, -0.0083, -0.0217,  0.0100, -0.0065,  0.0348,\n",
      "        -0.0319,  0.0200,  0.0248,  0.0296, -0.0072,  0.0358,  0.0335, -0.0140,\n",
      "        -0.0060, -0.0255, -0.0104,  0.0211,  0.0295,  0.0253, -0.0078,  0.0388,\n",
      "        -0.0047, -0.0052, -0.0312, -0.0006,  0.0063,  0.0052, -0.0009, -0.0257,\n",
      "         0.0201, -0.0034,  0.0346,  0.0404, -0.0089,  0.0166, -0.0037, -0.0171,\n",
      "        -0.0015,  0.0154, -0.0065, -0.0188, -0.0284,  0.0135,  0.0160, -0.0194,\n",
      "        -0.0126,  0.0155,  0.0103, -0.0095,  0.0266, -0.0253,  0.0087, -0.0073,\n",
      "        -0.0189, -0.0086, -0.0072, -0.0108,  0.0017, -0.0237, -0.0172, -0.0164,\n",
      "         0.0101, -0.0121, -0.0112, -0.0305,  0.0174, -0.0173,  0.0038,  0.0157,\n",
      "        -0.0171,  0.0328,  0.0044, -0.0287, -0.0309,  0.0161,  0.0140,  0.0385],\n",
      "       requires_grad=True), Parameter containing:\n",
      "tensor([[ 0.0053, -0.0123, -0.0838,  ..., -0.0795,  0.0730,  0.0977],\n",
      "        [ 0.0564,  0.0604,  0.0387,  ...,  0.0377,  0.0171,  0.0612],\n",
      "        [ 0.0580, -0.0852, -0.0289,  ..., -0.0055,  0.0514, -0.0409],\n",
      "        ...,\n",
      "        [ 0.0500,  0.0789, -0.0155,  ..., -0.0005,  0.0778,  0.0464],\n",
      "        [-0.0077, -0.0212, -0.0160,  ...,  0.0278,  0.0391, -0.0652],\n",
      "        [-0.0603,  0.0471, -0.0479,  ...,  0.0257, -0.0841, -0.0829]],\n",
      "       requires_grad=True), Parameter containing:\n",
      "tensor([-0.0762,  0.0453, -0.0613,  0.0441,  0.0892,  0.0734, -0.0080,  0.0122,\n",
      "         0.0448, -0.0474, -0.0219,  0.0947, -0.0777, -0.0787,  0.1065,  0.0011,\n",
      "         0.0103, -0.0613,  0.0536,  0.0626, -0.0299, -0.0581,  0.0095,  0.0174,\n",
      "        -0.0224, -0.0660,  0.0860,  0.0262, -0.0049,  0.0070,  0.0021, -0.0455,\n",
      "        -0.0572,  0.0403,  0.0306,  0.0695,  0.0525, -0.0268,  0.0865, -0.0096,\n",
      "        -0.0159,  0.0330, -0.0008,  0.0854, -0.0564,  0.0209, -0.0138,  0.0252,\n",
      "        -0.0557,  0.0320,  0.0112, -0.0428, -0.0505,  0.0273,  0.0436,  0.0814,\n",
      "         0.0016,  0.0053, -0.0865, -0.0720, -0.0744, -0.0754, -0.0123, -0.0688],\n",
      "       requires_grad=True), Parameter containing:\n",
      "tensor([[-1.3110e-01, -1.2806e-01, -7.7538e-03,  1.6639e-01,  1.7363e-02,\n",
      "          2.8043e-02, -3.0432e-01,  2.3425e-03, -1.6851e-01, -2.0269e-01,\n",
      "          1.7886e-01,  2.6812e-01, -6.5259e-02, -1.1336e-01,  4.6042e-02,\n",
      "         -4.6731e-02, -1.6615e-01, -1.0901e-01, -2.9055e-03, -8.7945e-02,\n",
      "          1.3560e-02, -6.5354e-02, -5.2582e-02, -1.1936e-01,  2.0764e-01,\n",
      "          2.2637e-01,  6.2383e-02,  2.3716e-01, -4.8036e-03,  6.1151e-02,\n",
      "         -9.5166e-02, -1.0162e-03, -2.6815e-02, -2.9822e-02, -3.5799e-02,\n",
      "          9.5909e-02,  7.3334e-02, -1.1210e-01,  3.0765e-01, -3.1940e-02,\n",
      "         -1.8388e-01, -4.5574e-02, -1.1786e-02, -1.9713e-02, -7.1238e-02,\n",
      "         -5.4031e-02,  3.7890e-02,  2.4719e-02,  6.0430e-03,  1.4956e-01,\n",
      "         -4.7505e-02,  1.2032e-01, -2.0674e-01, -1.9291e-01, -1.7577e-01,\n",
      "         -8.9120e-02,  1.8608e-01, -1.6282e-01,  2.2414e-01,  1.5869e-01,\n",
      "         -1.4935e-01,  3.1633e-02, -5.4173e-02,  1.0202e-02],\n",
      "        [ 7.8702e-02,  1.5829e-01,  1.2394e-01, -4.0051e-02, -1.3271e-02,\n",
      "         -1.6208e-01,  1.9468e-01, -3.1346e-02,  8.7483e-02, -1.0660e-01,\n",
      "         -1.8733e-01, -3.6690e-01,  1.1468e-01,  5.8148e-02, -2.9932e-01,\n",
      "          3.2999e-02,  1.6772e-01,  1.0990e-01, -2.0869e-01,  2.1892e-01,\n",
      "          5.4749e-02,  1.7445e-01,  7.8235e-02,  6.5192e-02, -6.1503e-02,\n",
      "         -2.6750e-01, -3.9140e-02, -2.9918e-01, -3.8039e-02,  8.5223e-02,\n",
      "         -1.0324e-01,  5.9665e-02, -2.1399e-01, -1.5298e-02,  8.6713e-03,\n",
      "         -9.8065e-02, -1.6137e-01, -3.6095e-02,  6.3797e-02, -1.4435e-01,\n",
      "          1.8175e-01,  1.2012e-01,  2.6761e-01, -6.6265e-03,  9.9195e-02,\n",
      "          3.5527e-02, -1.1052e-01,  7.5442e-02,  1.0063e-01,  6.7555e-02,\n",
      "          4.1818e-04, -2.1038e-02, -8.8917e-02,  8.3196e-02,  1.2589e-01,\n",
      "          1.4905e-01, -1.5147e-01,  2.0679e-01, -8.5216e-02, -1.0461e-01,\n",
      "          2.1747e-01, -5.4031e-02,  6.4443e-02,  7.2515e-02],\n",
      "        [-4.2402e-02, -4.4027e-02,  1.2281e-02, -1.2326e-01, -1.1825e-01,\n",
      "         -2.7335e-01,  1.9852e-01,  3.4573e-02,  1.1413e-02, -1.1797e-01,\n",
      "         -1.4196e-02,  1.4096e-01,  2.5477e-02,  2.0407e-02, -1.0255e-01,\n",
      "          2.8664e-01,  2.2470e-01, -7.5929e-02,  7.0948e-02,  1.4946e-01,\n",
      "         -7.3605e-02,  1.1120e-01,  2.0597e-01,  8.9995e-02,  4.9195e-02,\n",
      "          8.3516e-02, -2.0930e-01, -3.7971e-02, -3.9757e-02, -1.4174e-03,\n",
      "          1.1051e-01,  2.6391e-01,  1.7213e-01, -3.0416e-01, -1.1129e-01,\n",
      "          2.2485e-02, -1.1564e-01, -1.5332e-02,  2.2068e-01, -8.4750e-02,\n",
      "         -1.7107e-01,  1.0024e-01,  3.6828e-02, -4.5104e-02, -1.1230e-01,\n",
      "          8.7604e-02, -1.2246e-01,  4.1963e-02,  9.0875e-02, -1.9458e-01,\n",
      "          2.0570e-01,  6.8147e-02, -1.2761e-02, -1.5259e-01,  9.0974e-02,\n",
      "         -4.8749e-03, -2.0122e-01, -2.3545e-01, -4.7433e-02,  4.6258e-02,\n",
      "         -3.0060e-01, -1.2060e-01, -7.5752e-02,  8.0933e-02],\n",
      "        [ 7.7475e-03, -7.7656e-02,  3.7502e-03, -1.5531e-01,  8.0352e-02,\n",
      "         -8.3624e-02,  2.7866e-01, -2.6180e-02,  6.8935e-02, -1.7986e-01,\n",
      "          1.9536e-01, -2.6724e-02,  8.5908e-02,  2.8216e-02,  2.8020e-01,\n",
      "         -1.8143e-01,  1.8559e-01,  3.6520e-02, -2.2081e-01,  2.0821e-01,\n",
      "          1.1541e-02,  3.5512e-01, -1.0852e-01, -9.2931e-02,  1.3613e-01,\n",
      "         -3.3323e-02,  3.5708e-02,  4.1048e-02,  4.9785e-02,  2.5338e-02,\n",
      "          2.4498e-01,  1.5300e-01, -1.0701e-01, -6.7350e-02,  2.9863e-02,\n",
      "          5.3380e-02, -1.4395e-01,  1.0992e-01, -1.1292e-01, -2.1155e-02,\n",
      "         -2.2706e-02,  6.9444e-03, -1.4748e-01,  4.6078e-02,  1.1874e-01,\n",
      "          1.0116e-01,  1.0019e-01,  7.0552e-03,  6.3640e-02,  2.4440e-02,\n",
      "         -1.0397e-01,  5.5755e-02, -2.3351e-01, -8.7309e-02, -1.0615e-01,\n",
      "          3.9952e-02,  1.2150e-01, -1.3297e-01, -1.3457e-01, -1.5574e-01,\n",
      "          1.1254e-01,  9.4472e-02, -5.1800e-02,  9.5878e-03],\n",
      "        [ 6.8929e-02, -2.1998e-01, -1.2265e-01, -2.3643e-01,  2.6120e-02,\n",
      "         -9.6900e-03,  4.2649e-02, -6.9846e-02, -1.3181e-03,  1.0532e-01,\n",
      "         -2.0901e-02, -9.7595e-02,  9.6886e-04, -2.1528e-02, -1.3791e-01,\n",
      "         -1.1146e-01,  4.4130e-02, -7.4826e-02, -1.1060e-01, -8.3622e-03,\n",
      "          1.8471e-01, -5.0388e-02,  1.8341e-01,  2.3955e-01, -2.8118e-01,\n",
      "          1.4460e-01, -1.9215e-01,  1.5941e-01, -1.0923e-01,  1.9067e-02,\n",
      "         -1.5923e-01, -1.1255e-01,  2.3960e-01,  1.6678e-01,  2.2285e-01,\n",
      "         -8.9752e-02,  1.9691e-01, -1.0421e-01, -2.6602e-01,  6.9358e-02,\n",
      "          1.5782e-01,  5.4234e-03,  7.2918e-02, -1.6135e-01,  6.0852e-02,\n",
      "          4.2552e-02, -1.1288e-01,  2.1178e-02,  5.9235e-02, -4.4711e-02,\n",
      "         -5.3297e-02,  1.1507e-01,  4.8495e-02, -1.0864e-01,  1.2964e-01,\n",
      "          2.2824e-01,  8.8943e-02,  2.2012e-01,  1.6843e-01,  6.5043e-02,\n",
      "         -1.8025e-01,  1.3374e-01,  1.0745e-01,  1.1882e-01],\n",
      "        [-1.4061e-01,  1.6385e-01,  3.7393e-02, -1.2082e-01, -4.1525e-02,\n",
      "         -1.0242e-01, -7.4056e-02,  2.0006e-01,  1.4232e-01,  1.5143e-01,\n",
      "          1.2620e-01,  1.2989e-01, -4.7397e-02,  3.6412e-02, -2.8112e-02,\n",
      "          5.1304e-02, -1.3266e-02,  1.6659e-01,  2.1324e-03,  1.4081e-01,\n",
      "          1.4055e-02, -1.4345e-01, -7.1034e-02,  6.4688e-02,  1.6351e-01,\n",
      "         -1.4665e-01,  6.9160e-02,  1.4856e-01,  4.2600e-02, -1.1104e-01,\n",
      "          4.9395e-02, -4.3903e-02, -2.7790e-01,  2.1525e-01,  1.2193e-01,\n",
      "         -9.0987e-02,  1.7579e-01,  5.2243e-02, -7.5326e-02,  1.1689e-01,\n",
      "         -6.1873e-02, -1.6316e-01,  4.4496e-02, -1.4526e-01, -9.0575e-02,\n",
      "          5.7220e-03, -1.1956e-01, -9.4485e-02,  1.0017e-01,  2.7439e-01,\n",
      "          4.7156e-02, -1.1003e-01,  1.4782e-02, -1.7072e-01, -2.6499e-02,\n",
      "         -1.5489e-02,  6.2895e-02, -1.8389e-01,  1.5683e-01,  3.3133e-02,\n",
      "          7.5440e-02,  5.5267e-02, -7.7018e-02, -7.6707e-02],\n",
      "        [ 5.5146e-02,  1.9240e-01, -6.1520e-02, -3.0984e-02, -1.1206e-01,\n",
      "         -2.6260e-01,  7.7654e-02, -1.1644e-01, -1.0210e-01,  1.7020e-03,\n",
      "         -1.9656e-01,  6.4805e-02,  8.8676e-02, -4.1391e-02, -3.4024e-01,\n",
      "          2.8896e-01, -2.1731e-01,  1.6429e-01, -2.7517e-03, -1.5132e-01,\n",
      "         -6.7943e-02, -1.1987e-01, -1.0561e-02,  2.1012e-01, -4.1580e-02,\n",
      "          1.9378e-01,  1.2620e-02, -2.1127e-01,  6.1523e-02, -9.6434e-02,\n",
      "         -1.6776e-01, -1.7997e-01,  1.9812e-01,  2.0626e-01, -1.1330e-01,\n",
      "          3.8943e-02,  3.0350e-01,  8.3553e-02,  1.1115e-01,  2.9497e-01,\n",
      "          3.4178e-02,  7.2147e-03,  1.2546e-01,  2.4329e-01,  2.1189e-02,\n",
      "         -1.9634e-01,  8.9467e-02,  1.2470e-01,  7.9430e-02, -1.7785e-01,\n",
      "         -5.2405e-02,  5.5734e-02,  6.5618e-02, -1.5354e-01,  1.1748e-02,\n",
      "         -1.2683e-01,  1.2044e-02, -1.4730e-01, -5.8017e-02,  9.8146e-02,\n",
      "          1.2598e-01,  1.2934e-01, -8.4671e-02, -1.0158e-01],\n",
      "        [ 1.9558e-01, -1.6223e-01,  1.1138e-01,  2.5886e-01, -1.0442e-02,\n",
      "          1.3870e-01, -9.8147e-02, -2.0572e-01,  1.7621e-01,  1.4073e-01,\n",
      "          2.3358e-02,  2.3080e-02, -1.0214e-01,  9.0256e-02,  1.6897e-01,\n",
      "         -1.1343e-01, -2.0566e-01,  1.7578e-02,  2.7440e-01,  4.9174e-02,\n",
      "          1.1344e-01, -7.7225e-02, -9.2451e-02, -1.9350e-01, -1.6198e-01,\n",
      "         -1.5887e-01,  2.9773e-02, -1.4551e-01,  1.0884e-01,  1.2005e-01,\n",
      "         -1.5911e-01,  1.7436e-02, -9.6718e-02, -2.3712e-02, -6.2175e-02,\n",
      "          7.5057e-03, -1.6570e-01, -1.0095e-01,  8.6313e-03, -9.4441e-02,\n",
      "         -1.8752e-01,  2.3759e-01, -2.0115e-02, -1.1245e-01, -7.1967e-02,\n",
      "          1.7316e-01,  9.9721e-02, -7.7875e-02,  8.3526e-02,  3.3855e-02,\n",
      "         -2.0980e-01,  5.6797e-02,  6.2646e-02,  3.2385e-01,  1.0429e-01,\n",
      "          4.9089e-02,  7.7207e-02,  9.4768e-02, -1.6872e-01, -2.6417e-01,\n",
      "         -2.4270e-01, -3.6802e-04,  3.2407e-02,  1.3606e-02],\n",
      "        [-5.6928e-02,  2.8057e-01,  1.1344e-01, -7.0735e-02, -7.4139e-02,\n",
      "          3.3461e-02,  1.8461e-02,  2.0098e-01, -2.1821e-01, -1.4919e-01,\n",
      "          1.3137e-01, -6.9945e-02,  1.3585e-02,  9.3985e-02,  1.5128e-01,\n",
      "          2.2533e-01,  2.1244e-01,  4.0906e-02, -4.7287e-03,  5.9298e-02,\n",
      "          5.7793e-02, -2.0401e-01,  1.6330e-01,  1.4459e-01,  3.6010e-02,\n",
      "          4.6984e-02,  2.1984e-01, -3.8845e-02,  7.7284e-02, -1.3278e-02,\n",
      "          1.4110e-02, -1.4558e-01,  9.2253e-02, -1.8754e-01, -5.4225e-02,\n",
      "         -4.9773e-02, -2.0149e-01,  3.0286e-02, -2.0230e-01, -1.0729e-01,\n",
      "         -1.3065e-01, -1.5257e-01,  1.4129e-01, -1.4582e-01,  7.9410e-02,\n",
      "          7.7550e-02, -9.2709e-02,  6.3635e-03,  1.2261e-01, -6.5538e-02,\n",
      "         -1.2350e-01, -2.0580e-02,  3.9213e-02, -4.6019e-02,  1.4083e-01,\n",
      "          3.8137e-02, -2.0137e-01, -1.6720e-02,  8.8745e-02,  1.2752e-01,\n",
      "          2.2147e-01,  1.2729e-01,  1.0959e-01, -3.2100e-02],\n",
      "        [ 6.4055e-02, -1.1014e-01, -6.6550e-04, -1.3067e-01,  9.5430e-02,\n",
      "          2.0277e-01, -2.1222e-02,  1.5038e-01,  4.6920e-03,  4.8932e-02,\n",
      "         -3.5524e-02,  4.1636e-02,  1.1052e-01, -1.8417e-05,  3.3319e-02,\n",
      "         -2.3544e-01, -4.8130e-02, -2.1319e-01,  9.0034e-02, -2.3017e-01,\n",
      "         -1.7073e-01, -1.6260e-01, -9.1196e-03,  3.2163e-02,  1.6578e-02,\n",
      "          8.9817e-02,  5.8083e-02,  6.5535e-02, -8.9381e-02, -3.3978e-02,\n",
      "         -2.4667e-02, -2.2163e-01,  6.8707e-02, -5.3592e-02,  5.7825e-02,\n",
      "         -7.2340e-02, -1.8889e-01, -1.0805e-01, -1.6830e-01, -7.1097e-02,\n",
      "          1.3162e-01,  1.6082e-01, -6.7975e-02, -1.7220e-02,  3.0625e-02,\n",
      "          2.2600e-01,  9.9230e-02, -2.9738e-03,  7.7005e-02, -1.4258e-01,\n",
      "          1.6652e-01, -1.4748e-01,  2.3810e-01,  1.1022e-01,  6.7198e-02,\n",
      "          1.2080e-01,  8.3767e-02,  5.8363e-02, -1.6749e-01, -2.9766e-02,\n",
      "          1.9047e-01, -1.0725e-01,  1.5236e-02, -1.5181e-02]],\n",
      "       requires_grad=True), Parameter containing:\n",
      "tensor([-0.0816, -0.0622,  0.1071, -0.0542, -0.0631, -0.0680,  0.0687,  0.0784,\n",
      "        -0.0876,  0.0807], requires_grad=True)]\n"
     ]
    }
   ],
   "source": [
    "print(list(model.parameters()))"
   ]
  },
  {
   "cell_type": "markdown",
   "metadata": {},
   "source": [
    "Now our network is brilliant. It can accurately predict the digits in our images. Next up you'll write the code for training a neural network on a more complex dataset."
   ]
  }
 ],
 "metadata": {
  "kernelspec": {
   "display_name": "Python 3",
   "language": "python",
   "name": "python3"
  },
  "language_info": {
   "codemirror_mode": {
    "name": "ipython",
    "version": 3
   },
   "file_extension": ".py",
   "mimetype": "text/x-python",
   "name": "python",
   "nbconvert_exporter": "python",
   "pygments_lexer": "ipython3",
   "version": "3.7.5"
  }
 },
 "nbformat": 4,
 "nbformat_minor": 2
}
